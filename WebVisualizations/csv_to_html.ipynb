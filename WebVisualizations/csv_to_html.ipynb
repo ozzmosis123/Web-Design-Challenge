{
 "cells": [
  {
   "cell_type": "code",
   "execution_count": 1,
   "metadata": {},
   "outputs": [],
   "source": [
    "import pandas as pd"
   ]
  },
  {
   "cell_type": "code",
   "execution_count": 3,
   "metadata": {},
   "outputs": [
    {
     "data": {
      "text/html": [
       "<div>\n",
       "<style scoped>\n",
       "    .dataframe tbody tr th:only-of-type {\n",
       "        vertical-align: middle;\n",
       "    }\n",
       "\n",
       "    .dataframe tbody tr th {\n",
       "        vertical-align: top;\n",
       "    }\n",
       "\n",
       "    .dataframe thead th {\n",
       "        text-align: right;\n",
       "    }\n",
       "</style>\n",
       "<table border=\"1\" class=\"dataframe\">\n",
       "  <thead>\n",
       "    <tr style=\"text-align: right;\">\n",
       "      <th></th>\n",
       "      <th>City</th>\n",
       "      <th>Cloudiness</th>\n",
       "      <th>Country</th>\n",
       "      <th>Date</th>\n",
       "      <th>Humidity</th>\n",
       "      <th>Lat</th>\n",
       "      <th>Lng</th>\n",
       "      <th>Temperature</th>\n",
       "      <th>Max Temp</th>\n",
       "      <th>Wind Speed</th>\n",
       "    </tr>\n",
       "  </thead>\n",
       "  <tbody>\n",
       "    <tr>\n",
       "      <td>0</td>\n",
       "      <td>Rikitea</td>\n",
       "      <td>94</td>\n",
       "      <td>PF</td>\n",
       "      <td>1580788956</td>\n",
       "      <td>77</td>\n",
       "      <td>-23.12</td>\n",
       "      <td>-134.97</td>\n",
       "      <td>78.84</td>\n",
       "      <td>78.84</td>\n",
       "      <td>11.99</td>\n",
       "    </tr>\n",
       "    <tr>\n",
       "      <td>1</td>\n",
       "      <td>Ushuaia</td>\n",
       "      <td>75</td>\n",
       "      <td>AR</td>\n",
       "      <td>1580788956</td>\n",
       "      <td>66</td>\n",
       "      <td>-54.80</td>\n",
       "      <td>-68.30</td>\n",
       "      <td>51.80</td>\n",
       "      <td>51.80</td>\n",
       "      <td>16.11</td>\n",
       "    </tr>\n",
       "    <tr>\n",
       "      <td>2</td>\n",
       "      <td>Pasan</td>\n",
       "      <td>38</td>\n",
       "      <td>IN</td>\n",
       "      <td>1580788956</td>\n",
       "      <td>45</td>\n",
       "      <td>22.85</td>\n",
       "      <td>82.20</td>\n",
       "      <td>58.91</td>\n",
       "      <td>58.91</td>\n",
       "      <td>5.91</td>\n",
       "    </tr>\n",
       "    <tr>\n",
       "      <td>3</td>\n",
       "      <td>Bredasdorp</td>\n",
       "      <td>92</td>\n",
       "      <td>ZA</td>\n",
       "      <td>1580788956</td>\n",
       "      <td>88</td>\n",
       "      <td>-34.53</td>\n",
       "      <td>20.04</td>\n",
       "      <td>73.90</td>\n",
       "      <td>75.00</td>\n",
       "      <td>5.82</td>\n",
       "    </tr>\n",
       "    <tr>\n",
       "      <td>4</td>\n",
       "      <td>Busselton</td>\n",
       "      <td>40</td>\n",
       "      <td>AU</td>\n",
       "      <td>1580788752</td>\n",
       "      <td>19</td>\n",
       "      <td>-33.65</td>\n",
       "      <td>115.33</td>\n",
       "      <td>86.59</td>\n",
       "      <td>90.00</td>\n",
       "      <td>9.42</td>\n",
       "    </tr>\n",
       "  </tbody>\n",
       "</table>\n",
       "</div>"
      ],
      "text/plain": [
       "         City  Cloudiness Country        Date  Humidity    Lat     Lng  \\\n",
       "0     Rikitea          94      PF  1580788956        77 -23.12 -134.97   \n",
       "1     Ushuaia          75      AR  1580788956        66 -54.80  -68.30   \n",
       "2       Pasan          38      IN  1580788956        45  22.85   82.20   \n",
       "3  Bredasdorp          92      ZA  1580788956        88 -34.53   20.04   \n",
       "4   Busselton          40      AU  1580788752        19 -33.65  115.33   \n",
       "\n",
       "   Temperature  Max Temp  Wind Speed  \n",
       "0        78.84     78.84       11.99  \n",
       "1        51.80     51.80       16.11  \n",
       "2        58.91     58.91        5.91  \n",
       "3        73.90     75.00        5.82  \n",
       "4        86.59     90.00        9.42  "
      ]
     },
     "execution_count": 3,
     "metadata": {},
     "output_type": "execute_result"
    }
   ],
   "source": [
    "csv_file = \"./resources/weatherpy.csv\"\n",
    "\n",
    "weatherpy_df = pd.read_csv(csv_file)\n",
    "weatherpy_df.head()"
   ]
  },
  {
   "cell_type": "code",
   "execution_count": 4,
   "metadata": {},
   "outputs": [],
   "source": [
    "weatherpy_df.to_html(\"cities.html\", index=True)"
   ]
  },
  {
   "cell_type": "code",
   "execution_count": null,
   "metadata": {},
   "outputs": [],
   "source": []
  }
 ],
 "metadata": {
  "kernelspec": {
   "display_name": "Python 3",
   "language": "python",
   "name": "python3"
  },
  "language_info": {
   "codemirror_mode": {
    "name": "ipython",
    "version": 3
   },
   "file_extension": ".py",
   "mimetype": "text/x-python",
   "name": "python",
   "nbconvert_exporter": "python",
   "pygments_lexer": "ipython3",
   "version": "3.7.4"
  }
 },
 "nbformat": 4,
 "nbformat_minor": 2
}
